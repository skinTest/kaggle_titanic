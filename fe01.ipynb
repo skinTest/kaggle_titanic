{
 "cells": [
  {
   "cell_type": "code",
   "execution_count": 24,
   "id": "3cabedd9",
   "metadata": {},
   "outputs": [],
   "source": [
    "import pandas as pd\n",
    "import numpy as np\n",
    "import os\n",
    "\n",
    "fp_train = os.path.join('data', 'train.csv')\n",
    "fp_test = os.path.join('data', 'test.csv')\n",
    "\n",
    "df = pd.read_csv(fp_train)\n",
    "t_df = pd.read_csv(fp_test)"
   ]
  },
  {
   "cell_type": "markdown",
   "id": "de8cb242",
   "metadata": {},
   "source": [
    "## Age Feature Engineering\n",
    "* mean survival rate is 0.384\n",
    "* missing age bucket has mean .294\n",
    "* we should keep this feature then add median."
   ]
  },
  {
   "cell_type": "code",
   "execution_count": 25,
   "id": "f9463d51",
   "metadata": {},
   "outputs": [],
   "source": [
    "# we use new feature array to maintain features we added to the data\n",
    "n_fea = ['Age_is_missing', 'Deck', 'Title', 'IsAlone']"
   ]
  },
  {
   "cell_type": "code",
   "execution_count": 26,
   "id": "d6e8164d",
   "metadata": {},
   "outputs": [],
   "source": [
    "# we add age is missing feawture and simply add median to missing value for both df and t_df\n",
    "for tar in [df, t_df]:\n",
    "    tar[n_fea[0]] = tar['Age'].isnull().astype(int)\n",
    "    tar['Age'] = tar['Age'].fillna(tar['Age'].median())"
   ]
  },
  {
   "cell_type": "markdown",
   "id": "cd0cba07",
   "metadata": {},
   "source": []
  },
  {
   "cell_type": "markdown",
   "id": "bd431b29",
   "metadata": {},
   "source": [
    "### Cabin\n",
    "we collect Deck information from Cabin, only the level is useful. and this information should be kept."
   ]
  },
  {
   "cell_type": "code",
   "execution_count": 27,
   "id": "e1ae1438",
   "metadata": {},
   "outputs": [],
   "source": [
    "for tar in [df, t_df]:\n",
    "    tar[n_fea[1]] = tar['Cabin'].str[0]\n",
    "    tar[n_fea[1]] = tar[n_fea[1]].fillna('U')"
   ]
  },
  {
   "cell_type": "markdown",
   "id": "c0f6c117",
   "metadata": {},
   "source": [
    "### Name\n",
    "* we Extract title from name, this can be an additional information for age.\n",
    "* Family information is too discrete and the PClass might be more direct, so we leave it alone. Though Family information seems so attractive at first glance."
   ]
  },
  {
   "cell_type": "code",
   "execution_count": 28,
   "id": "dbd32b5e",
   "metadata": {},
   "outputs": [],
   "source": [
    "common_titles = ['Mr', 'Miss', 'Mrs', 'Master', 'Dr', 'Rev']\n",
    "\n",
    "for tar in [df, t_df]:\n",
    "    tar['Title'] = tar['Name'].str.extract(r' ([A-Za-z]+)\\.', expand=False)\n",
    "    tar['Title'] = tar['Title'].apply(lambda x: x if x in common_titles else 'Other')\n"
   ]
  },
  {
   "cell_type": "markdown",
   "id": "71f7c130",
   "metadata": {},
   "source": [
    "### family information\n",
    "SibSp and Parch: here we take a is_alone from these two information directly"
   ]
  },
  {
   "cell_type": "code",
   "execution_count": 29,
   "id": "05382851",
   "metadata": {},
   "outputs": [],
   "source": [
    "for tar in [df, t_df]:\n",
    "    tar['IsAlone'] = ((tar['SibSp'] == 0) & (tar['Parch'] == 0)).astype(int)"
   ]
  },
  {
   "cell_type": "markdown",
   "id": "db19ce5d",
   "metadata": {},
   "source": [
    "### Embarked\n",
    "* S: Southampton\n",
    "* C: Cherbourg\n",
    "* Q: Queenstown\n",
    "\n",
    "route: \n",
    "1. Southampton(England)\n",
    "2. Cherbourg(France)\n",
    "3. Queenstown(Ireland)\n",
    "4. New York(USA)\n"
   ]
  },
  {
   "cell_type": "code",
   "execution_count": 30,
   "id": "4a54b2a5",
   "metadata": {},
   "outputs": [],
   "source": [
    "for tar in [df, t_df]:\n",
    "    tar['Embarked'] = tar['Embarked'].fillna('S')"
   ]
  },
  {
   "cell_type": "markdown",
   "id": "22948d9f",
   "metadata": {},
   "source": [
    "## Model\n",
    "we just train a classical RandomForest to see the effect of our feature engineering"
   ]
  },
  {
   "cell_type": "code",
   "execution_count": 31,
   "id": "f1abc1c3",
   "metadata": {},
   "outputs": [
    {
     "name": "stdout",
     "output_type": "stream",
     "text": [
      "Model Accuracy with training:  0.7952\n"
     ]
    }
   ],
   "source": [
    "from sklearn.model_selection import train_test_split\n",
    "from sklearn.ensemble import RandomForestClassifier\n",
    "from sklearn.metrics import accuracy_score\n",
    "\n",
    "# Assuming 'df' is your preprocessed training data and 'test_df' is your preprocessed test data.\n",
    "# Let's combine them before one-hot encoding to ensure consistent columns.\n",
    "train_index = df.index\n",
    "test_index = t_df.index\n",
    "combined_df = pd.concat([df, t_df], ignore_index=True, sort=False)\n",
    "\n",
    "### One-Hot Encoding\n",
    "categorical_cols = ['Sex', 'Embarked', 'Deck', 'Title']\n",
    "combined_encoded = pd.get_dummies(combined_df, columns=categorical_cols, drop_first=True)\n",
    "\n",
    "### Re-separating into Training and Test sets\n",
    "df_encoded = combined_encoded.iloc[train_index]\n",
    "test_encoded = combined_encoded.iloc[test_index]\n",
    "\n",
    "### Preparing Data for the Model\n",
    "# The features for both sets must be the same, so we get the training columns\n",
    "# and select them from the test set.\n",
    "features = df_encoded.drop(['Survived', 'Name', 'Ticket', 'Cabin'], axis=1).columns\n",
    "\n",
    "X = df_encoded[features]\n",
    "y = df_encoded['Survived']\n",
    "\n",
    "### Splitting and Training the Model\n",
    "X_train, X_test, y_train, y_test = train_test_split(X, y, test_size=0.8, random_state=42)\n",
    "model = RandomForestClassifier(n_estimators=100, random_state=42)\n",
    "model.fit(X_train, y_train)\n",
    "\n",
    "accuracy = accuracy_score(y_test, model.predict(X_test))\n",
    "print(f'Model Accuracy with training: {accuracy: .4f}')"
   ]
  },
  {
   "cell_type": "code",
   "execution_count": 32,
   "id": "29e85987",
   "metadata": {},
   "outputs": [],
   "source": [
    "### Making and Submitting Predictions\n",
    "# Select the same features from the test set for prediction\n",
    "test_features = test_encoded[features]\n",
    "predictions = model.predict(test_features).astype(int)\n",
    "\n",
    "# Create the submission file\n",
    "submission_df = pd.DataFrame({\n",
    "    'PassengerId': t_df['PassengerId'],\n",
    "    'Survived': predictions\n",
    "})\n",
    "\n",
    "sub_p = os.path.join('submissions', 'fe01.csv')\n",
    "submission_df.to_csv(sub_p, index=False)"
   ]
  },
  {
   "cell_type": "code",
   "execution_count": 33,
   "id": "25137e35",
   "metadata": {},
   "outputs": [
    {
     "data": {
      "image/png": "[encoded data removed]",
      "text/plain": [
       "<Figure size 1000x600 with 1 Axes>"
      ]
     },
     "metadata": {},
     "output_type": "display_data"
    },
    {
     "name": "stdout",
     "output_type": "stream",
     "text": [
      "Title_Mr: 0.14302716711185987\n",
      "Fare: 0.12838307995569506\n",
      "Sex_male: 0.12275503062549174\n",
      "PassengerId: 0.11183558198992138\n",
      "Age: 0.10241506164103266\n",
      "Pclass: 0.05517676156808764\n",
      "Title_Miss: 0.047444136001445654\n",
      "Title_Mrs: 0.03677704478752061\n",
      "Embarked_S: 0.03221081611819185\n",
      "Deck_U: 0.03086695906008264\n",
      "SibSp: 0.02865957815643952\n",
      "Deck_E: 0.026719556901126984\n",
      "Parch: 0.021790577802733743\n",
      "Embarked_Q: 0.02036277132994871\n",
      "IsAlone: 0.018905706070959434\n",
      "Age_is_missing: 0.018035003239824873\n",
      "Deck_B: 0.015946666421411317\n",
      "Deck_C: 0.010081336041680652\n",
      "Deck_D: 0.00991544905935357\n",
      "Title_Master: 0.006868780900588265\n",
      "Deck_G: 0.006368421561516347\n",
      "Title_Other: 0.0024231154624191464\n",
      "Deck_F: 0.0023388656324863067\n",
      "Deck_T: 0.0006925325601819188\n",
      "Title_Rev: 0.0\n"
     ]
    }
   ],
   "source": [
    "import matplotlib.pyplot as plt\n",
    "\n",
    "importances = model.feature_importances_\n",
    "indices = np.argsort(importances)[::-1]\n",
    "features = X_train.columns\n",
    "\n",
    "plt.figure(figsize=(10,6))\n",
    "plt.bar(range(len(features)), importances[indices])\n",
    "plt.xticks(range(len(features)), features[indices], rotation=90)\n",
    "plt.show()\n",
    "\n",
    "for i in indices:\n",
    "    print(f'{features[i]}: {importances[i]}')"
   ]
  },
  {
   "cell_type": "code",
   "execution_count": 34,
   "id": "120a727c",
   "metadata": {},
   "outputs": [
    {
     "name": "stdout",
     "output_type": "stream",
     "text": [
      "log model Validation accuracy: 0.791023842917251\n"
     ]
    },
    {
     "name": "stderr",
     "output_type": "stream",
     "text": [
      "d:\\playground\\kaggle\\Titanic\\myenv\\Lib\\site-packages\\sklearn\\linear_model\\_logistic.py:473: ConvergenceWarning: lbfgs failed to converge after 200 iteration(s) (status=1):\n",
      "STOP: TOTAL NO. OF ITERATIONS REACHED LIMIT\n",
      "\n",
      "Increase the number of iterations to improve the convergence (max_iter=200).\n",
      "You might also want to scale the data as shown in:\n",
      "    https://scikit-learn.org/stable/modules/preprocessing.html\n",
      "Please also refer to the documentation for alternative solver options:\n",
      "    https://scikit-learn.org/stable/modules/linear_model.html#logistic-regression\n",
      "  n_iter_i = _check_optimize_result(\n"
     ]
    }
   ],
   "source": [
    "from sklearn.linear_model import LogisticRegression\n",
    "\n",
    "log_model = LogisticRegression(max_iter=200)\n",
    "log_model.fit(X_train, y_train)\n",
    "print(\"log model Validation accuracy:\", log_model.score(X_test, y_test))\n",
    "\n",
    "### Making and Submitting Predictions\n",
    "# Select the same features from the test set for prediction\n",
    "predictions = log_model.predict(test_features).astype(int)\n",
    "\n",
    "# Create the submission file\n",
    "submission_df = pd.DataFrame({\n",
    "    'PassengerId': t_df['PassengerId'],\n",
    "    'Survived': predictions\n",
    "})\n",
    "\n",
    "sub_p = os.path.join('submissions', 'lg01.csv')\n",
    "submission_df.to_csv(sub_p, index=False)"
   ]
  },
  {
   "cell_type": "code",
   "execution_count": 36,
   "id": "3cf94760",
   "metadata": {},
   "outputs": [
    {
     "name": "stdout",
     "output_type": "stream",
     "text": [
      "           Feature  Coefficient\n",
      "21        Title_Mr    -0.858865\n",
      "14          Deck_E     0.856396\n",
      "6   Age_is_missing    -0.734765\n",
      "1           Pclass    -0.657479\n",
      "22       Title_Mrs     0.657146\n",
      "8         Sex_male    -0.631787\n",
      "10      Embarked_S    -0.614009\n",
      "19    Title_Master     0.601956\n",
      "12          Deck_C    -0.523030\n",
      "11          Deck_B     0.480003\n",
      "4            Parch    -0.472030\n",
      "16          Deck_G    -0.414206\n",
      "9       Embarked_Q     0.358141\n",
      "13          Deck_D     0.310313\n",
      "5             Fare     0.304826\n",
      "7          IsAlone     0.292316\n",
      "3            SibSp    -0.283458\n",
      "23     Title_Other     0.252635\n",
      "15          Deck_F     0.236761\n",
      "17          Deck_T    -0.205571\n",
      "20      Title_Miss     0.197617\n",
      "0      PassengerId    -0.090901\n",
      "18          Deck_U     0.074526\n",
      "2              Age    -0.047505\n",
      "24       Title_Rev     0.000000\n"
     ]
    }
   ],
   "source": [
    "from sklearn.preprocessing import StandardScaler\n",
    "from sklearn.linear_model import LogisticRegression\n",
    "\n",
    "scalar = StandardScaler()\n",
    "X_scaled = scalar.fit_transform(X_train)\n",
    "\n",
    "log_model = LogisticRegression(max_iter=500)\n",
    "log_model.fit(X_scaled, y_train)\n",
    "\n",
    "# Feature importance = absolute value of coefficients\n",
    "importance = pd.DataFrame({\n",
    "    \"Feature\": X.columns,\n",
    "    \"Coefficient\": log_model.coef_[0]\n",
    "}).sort_values(by=\"Coefficient\", key=abs, ascending=False)\n",
    "\n",
    "print(importance)\n"
   ]
  },
  {
   "cell_type": "code",
   "execution_count": null,
   "id": "4b0b6baf",
   "metadata": {},
   "outputs": [],
   "source": []
  }
 ],
 "metadata": {
  "kernelspec": {
   "display_name": "myenv",
   "language": "python",
   "name": "python3"
  },
  "language_info": {
   "codemirror_mode": {
    "name": "ipython",
    "version": 3
   },
   "file_extension": ".py",
   "mimetype": "text/x-python",
   "name": "python",
   "nbconvert_exporter": "python",
   "pygments_lexer": "ipython3",
   "version": "3.12.2"
  }
 },
 "nbformat": 4,
 "nbformat_minor": 5
}
