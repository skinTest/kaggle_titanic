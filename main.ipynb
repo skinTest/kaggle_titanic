{
 "cells": [
  {
   "cell_type": "code",
   "execution_count": 26,
   "id": "31584021",
   "metadata": {},
   "outputs": [],
   "source": [
    "import pandas as pd\n",
    "import numpy as np\n",
    "import seaborn as sns\n",
    "from sklearn.ensemble import RandomForestClassifier\n",
    "from sklearn.model_selection import train_test_split\n",
    "from sklearn.metrics import accuracy_score\n",
    "import os\n",
    "\n",
    "fp_train = os.path.join('data', 'train.csv')\n",
    "\n",
    "df = pd.read_csv(fp_train)"
   ]
  },
  {
   "cell_type": "code",
   "execution_count": 30,
   "id": "c70db241",
   "metadata": {},
   "outputs": [
    {
     "name": "stdout",
     "output_type": "stream",
     "text": [
      "       PassengerId    Survived      Pclass         Age       SibSp  \\\n",
      "count   891.000000  891.000000  891.000000  714.000000  891.000000   \n",
      "mean    446.000000    0.383838    2.308642   29.699118    0.523008   \n",
      "std     257.353842    0.486592    0.836071   14.526497    1.102743   \n",
      "min       1.000000    0.000000    1.000000    0.420000    0.000000   \n",
      "25%     223.500000    0.000000    2.000000   20.125000    0.000000   \n",
      "50%     446.000000    0.000000    3.000000   28.000000    0.000000   \n",
      "75%     668.500000    1.000000    3.000000   38.000000    1.000000   \n",
      "max     891.000000    1.000000    3.000000   80.000000    8.000000   \n",
      "\n",
      "            Parch        Fare  \n",
      "count  891.000000  891.000000  \n",
      "mean     0.381594   32.204208  \n",
      "std      0.806057   49.693429  \n",
      "min      0.000000    0.000000  \n",
      "25%      0.000000    7.910400  \n",
      "50%      0.000000   14.454200  \n",
      "75%      0.000000   31.000000  \n",
      "max      6.000000  512.329200  \n",
      "   PassengerId  Survived  Pclass  \\\n",
      "0            1         0       3   \n",
      "1            2         1       1   \n",
      "2            3         1       3   \n",
      "3            4         1       1   \n",
      "4            5         0       3   \n",
      "\n",
      "                                                Name     Sex   Age  SibSp  \\\n",
      "0                            Braund, Mr. Owen Harris    male  22.0      1   \n",
      "1  Cumings, Mrs. John Bradley (Florence Briggs Th...  female  38.0      1   \n",
      "2                             Heikkinen, Miss. Laina  female  26.0      0   \n",
      "3       Futrelle, Mrs. Jacques Heath (Lily May Peel)  female  35.0      1   \n",
      "4                           Allen, Mr. William Henry    male  35.0      0   \n",
      "\n",
      "   Parch            Ticket     Fare Cabin Embarked  \n",
      "0      0         A/5 21171   7.2500   NaN        S  \n",
      "1      0          PC 17599  71.2833   C85        C  \n",
      "2      0  STON/O2. 3101282   7.9250   NaN        S  \n",
      "3      0            113803  53.1000  C123        S  \n",
      "4      0            373450   8.0500   NaN        S  \n",
      "PassengerId      0\n",
      "Survived         0\n",
      "Pclass           0\n",
      "Name             0\n",
      "Sex              0\n",
      "Age            177\n",
      "SibSp            0\n",
      "Parch            0\n",
      "Ticket           0\n",
      "Fare             0\n",
      "Cabin          687\n",
      "Embarked         2\n",
      "dtype: int64\n"
     ]
    }
   ],
   "source": [
    "print(df.describe())\n",
    "print(df.head())\n",
    "\n",
    "\n",
    "# missing value\n",
    "missing_value = df.isnull().sum()\n",
    "print(missing_value)"
   ]
  },
  {
   "cell_type": "code",
   "execution_count": 32,
   "id": "0e531f36",
   "metadata": {},
   "outputs": [
    {
     "name": "stdout",
     "output_type": "stream",
     "text": [
      "Survival Rate for Passengers with Missing Age: 0.2938\n",
      "Overall Survival Rate: 0.3838\n"
     ]
    },
    {
     "name": "stderr",
     "output_type": "stream",
     "text": [
      "C:\\Users\\薛淞之\\AppData\\Local\\Temp\\ipykernel_34944\\3138793572.py:14: FutureWarning: The default of observed=False is deprecated and will be changed to True in a future version of pandas. Pass observed=False to retain current behavior or observed=True to adopt the future default and silence this warning.\n",
      "  age_survival_rate = age_data.groupby('AgeGroup')['Survived'].mean().reset_index()\n",
      "C:\\Users\\薛淞之\\AppData\\Local\\Temp\\ipykernel_34944\\3138793572.py:26: FutureWarning: \n",
      "\n",
      "Passing `palette` without assigning `hue` is deprecated and will be removed in v0.14.0. Assign the `x` variable to `hue` and set `legend=False` for the same effect.\n",
      "\n",
      "  sns.barplot(x='AgeGroup', y='Survived', data=age_survival_rate, palette='viridis')\n"
     ]
    },
    {
     "data": {
      "image/png": "[encoded data removed]",
      "text/plain": [
       "<Figure size 1000x600 with 1 Axes>"
      ]
     },
     "metadata": {},
     "output_type": "display_data"
    },
    {
     "name": "stdout",
     "output_type": "stream",
     "text": [
      "Survival Rate for Passengers with Missing Age: 0.2938\n",
      "Overall Survival Rate: 0.3838\n"
     ]
    }
   ],
   "source": [
    "import matplotlib.pyplot as plt\n",
    "\n",
    "# Drop rows with missing 'Age' for this analysis to ensure a clean visual\n",
    "age_data = df.dropna(subset=['Age']).copy()\n",
    "\n",
    "# Create age buckets. Adjust the bins as you see fit.\n",
    "age_bins = [0, 10, 20, 30, 40, 50, 60, 70, 80]\n",
    "age_labels = ['0-9', '10-19', '20-29', '30-39', '40-49', '50-59', '60-69', '70-79']\n",
    "\n",
    "# Create a new 'AgeGroup' column\n",
    "age_data['AgeGroup'] = pd.cut(age_data['Age'], bins=age_bins, labels=age_labels, right=False)\n",
    "\n",
    "# Group by the new 'AgeGroup' and calculate the mean survival rate\n",
    "age_survival_rate = age_data.groupby('AgeGroup')['Survived'].mean().reset_index()\n",
    "\n",
    "# missing age survive rate\n",
    "missing_age_survival_rate = df[df['Age'].isnull()]['Survived'].mean()\n",
    "print(f\"Survival Rate for Passengers with Missing Age: {missing_age_survival_rate:.4f}\")\n",
    "\n",
    "# overall survive rate\n",
    "overall_survival_rate = df['Survived'].mean()\n",
    "print(f\"Overall Survival Rate: {overall_survival_rate:.4f}\")\n",
    "\n",
    "# Plot the results\n",
    "plt.figure(figsize=(10, 6))\n",
    "sns.barplot(x='AgeGroup', y='Survived', data=age_survival_rate, palette='viridis')\n",
    "plt.title('Survival Rate by Age Group')\n",
    "plt.xlabel('Age Group')\n",
    "plt.ylabel('Survival Rate')\n",
    "plt.ylim(0, 1) # Set y-axis limits from 0 to 1 for survival rate\n",
    "plt.show()\n",
    "\n",
    "# missing age survive rate\n",
    "missing_age_survival_rate = df[df['Age'].isnull()]['Survived'].mean()\n",
    "print(f\"Survival Rate for Passengers with Missing Age: {missing_age_survival_rate:.4f}\")\n",
    "\n",
    "# overall survive rate\n",
    "overall_survival_rate = df['Survived'].mean()\n",
    "print(f\"Overall Survival Rate: {overall_survival_rate:.4f}\")"
   ]
  },
  {
   "cell_type": "code",
   "execution_count": 33,
   "id": "4d46e1a9",
   "metadata": {},
   "outputs": [],
   "source": [
    "# Create a new feature to indicate if 'Age' was missing\n",
    "df['Age_is_missing'] = df['Age'].isnull().astype(int)\n",
    "\n",
    "# Now, you can fill the missing 'Age' values with the median as a fallback,\n",
    "# since the model now has a separate feature to account for this.\n",
    "df['Age'] = df['Age'].fillna(df['Age'].median())"
   ]
  },
  {
   "cell_type": "markdown",
   "id": "45f2762b",
   "metadata": {},
   "source": [
    "###  PClass\n",
    "Passenger Class feature is an indicator for socioeconomic status, which likely influence where passagers were on the ship and their access to lifeboats"
   ]
  },
  {
   "cell_type": "code",
   "execution_count": 42,
   "id": "a8b0f432",
   "metadata": {},
   "outputs": [
    {
     "name": "stderr",
     "output_type": "stream",
     "text": [
      "C:\\Users\\薛淞之\\AppData\\Local\\Temp\\ipykernel_34944\\2592989935.py:10: FutureWarning: \n",
      "\n",
      "Passing `palette` without assigning `hue` is deprecated and will be removed in v0.14.0. Assign the `x` variable to `hue` and set `legend=False` for the same effect.\n",
      "\n",
      "  sns.barplot(x='Pclass', y='Survived', data=pclass_survival_rate, palette='viridis')\n"
     ]
    },
    {
     "data": {
      "image/png": "[encoded data removed]",
      "text/plain": [
       "<Figure size 800x500 with 1 Axes>"
      ]
     },
     "metadata": {},
     "output_type": "display_data"
    },
    {
     "name": "stdout",
     "output_type": "stream",
     "text": [
      "            mean  count\n",
      "Pclass                 \n",
      "1       0.629630    216\n",
      "2       0.472826    184\n",
      "3       0.242363    491\n"
     ]
    }
   ],
   "source": [
    "import seaborn as sns\n",
    "import matplotlib.pyplot as plt\n",
    "\n",
    "# Group by 'Pclass' and calculate the mean survival rate\n",
    "pclass_survival_rate = df.groupby('Pclass')['Survived'].mean().reset_index()\n",
    "pclass_summary = df.groupby('Pclass')['Survived'].agg(['mean', 'count'])\n",
    "\n",
    "# Plot the results\n",
    "plt.figure(figsize=(8, 5))\n",
    "sns.barplot(x='Pclass', y='Survived', data=pclass_survival_rate, palette='viridis')\n",
    "plt.title('Survival Rate by Passenger Class')\n",
    "plt.xlabel('Passenger Class')\n",
    "plt.ylabel('Survival Rate')\n",
    "plt.ylim(0, 1)\n",
    "plt.show()\n",
    "\n",
    "print(pclass_summary)"
   ]
  },
  {
   "cell_type": "markdown",
   "id": "6c8c8ef9",
   "metadata": {},
   "source": [
    "### Parch and SibSp\n",
    "we can combine these two feature to see the FamilySize."
   ]
  },
  {
   "cell_type": "code",
   "execution_count": 43,
   "id": "d24fe0d8",
   "metadata": {},
   "outputs": [
    {
     "name": "stdout",
     "output_type": "stream",
     "text": [
      "Survival Rate by Siblings/Spouses (SibSp):\n",
      "   SibSp      mean  count\n",
      "0      0  0.345395    608\n",
      "1      1  0.535885    209\n",
      "2      2  0.464286     28\n",
      "3      3  0.250000     16\n",
      "4      4  0.166667     18\n",
      "5      5  0.000000      5\n",
      "6      8  0.000000      7\n",
      "\n",
      "Survival Rate by Parents/Children (Parch):\n",
      "   Parch      mean  count\n",
      "0      0  0.343658    678\n",
      "1      1  0.550847    118\n",
      "2      2  0.500000     80\n",
      "3      3  0.600000      5\n",
      "4      4  0.000000      4\n",
      "5      5  0.200000      5\n",
      "6      6  0.000000      1\n"
     ]
    }
   ],
   "source": [
    "# Group by 'SibSp' (siblings/spouses) and calculate the mean survival rate\n",
    "# sibsp_survival_rate = df.groupby('SibSp')['Survived'].mean().reset_index()\n",
    "sibsp_survival_rate = df.groupby('SibSp')['Survived'].agg(['mean', 'count']).reset_index()\n",
    "print(\"Survival Rate by Siblings/Spouses (SibSp):\")\n",
    "print(sibsp_survival_rate)\n",
    "\n",
    "# Group by 'Parch' (parents/children) and calculate the mean survival rate\n",
    "# parch_survival_rate = df.groupby('Parch')['Survived'].mean().reset_index()\n",
    "parch_survival_rate = df.groupby('Parch')['Survived'].agg(['mean', 'count']).reset_index()\n",
    "print(\"\\nSurvival Rate by Parents/Children (Parch):\")\n",
    "print(parch_survival_rate)"
   ]
  },
  {
   "cell_type": "markdown",
   "id": "74d8721b",
   "metadata": {},
   "source": [
    "### Fare Violin Plot"
   ]
  },
  {
   "cell_type": "code",
   "execution_count": 38,
   "id": "353f7d4a",
   "metadata": {},
   "outputs": [
    {
     "name": "stderr",
     "output_type": "stream",
     "text": [
      "C:\\Users\\薛淞之\\AppData\\Local\\Temp\\ipykernel_34944\\3856395240.py:3: FutureWarning: \n",
      "\n",
      "Passing `palette` without assigning `hue` is deprecated and will be removed in v0.14.0. Assign the `x` variable to `hue` and set `legend=False` for the same effect.\n",
      "\n",
      "  sns.violinplot(x='Survived', y='Fare', data=df, palette='muted')\n"
     ]
    },
    {
     "data": {
      "image/png": "[encoded data removed]",
      "text/plain": [
       "<Figure size 1000x600 with 1 Axes>"
      ]
     },
     "metadata": {},
     "output_type": "display_data"
    }
   ],
   "source": [
    "# Create a violin plot of 'Fare' vs 'Survived'\n",
    "plt.figure(figsize=(10, 6))\n",
    "sns.violinplot(x='Survived', y='Fare', data=df, palette='muted')\n",
    "plt.title('Fare Distribution by Survival')\n",
    "plt.xlabel('Survived (0 = No, 1 = Yes)')\n",
    "plt.ylabel('Fare')\n",
    "plt.show()"
   ]
  },
  {
   "cell_type": "markdown",
   "id": "9494a6c8",
   "metadata": {},
   "source": [
    "### Embarked\n",
    "* S: Southampton\n",
    "* C: Cherbourg\n",
    "* Q: Queenstown\n",
    "\n",
    "route: \n",
    "1. Southampton(England)\n",
    "2. Cherbourg(France)\n",
    "3. Queenstown(Ireland)\n",
    "4. New York(USA)"
   ]
  },
  {
   "cell_type": "code",
   "execution_count": 45,
   "id": "4e4f5f8e",
   "metadata": {},
   "outputs": [
    {
     "name": "stdout",
     "output_type": "stream",
     "text": [
      "Survival Rate by Embark port:\n",
      "  Embarked      mean  count\n",
      "0        C  0.553571    168\n",
      "1        Q  0.389610     77\n",
      "2        S  0.336957    644\n"
     ]
    }
   ],
   "source": [
    "# groupby Embark and aggregate to Survived\n",
    "\n",
    "Embarked_summary = df.groupby('Embarked')['Survived'].agg(['mean', 'count']).reset_index()\n",
    "print(\"Survival Rate by Embark port:\")\n",
    "print(Embarked_summary)"
   ]
  },
  {
   "cell_type": "markdown",
   "id": "8794cd96",
   "metadata": {},
   "source": [
    "### Carbin\n",
    "600+ field missing. but this value might be useful for its deck information, which reside in the first letter."
   ]
  },
  {
   "cell_type": "code",
   "execution_count": 46,
   "id": "84a80004",
   "metadata": {},
   "outputs": [
    {
     "name": "stdout",
     "output_type": "stream",
     "text": [
      "          mean  count\n",
      "Deck                 \n",
      "A     0.466667     15\n",
      "B     0.744681     47\n",
      "C     0.593220     59\n",
      "D     0.757576     33\n",
      "E     0.750000     32\n",
      "F     0.615385     13\n",
      "G     0.500000      4\n",
      "T     0.000000      1\n",
      "U     0.299854    687\n"
     ]
    }
   ],
   "source": [
    "# Create a new feature for the first letter of the Cabin (the deck)\n",
    "df['Deck'] = df['Cabin'].str[0]\n",
    "\n",
    "# Replace missing cabins with 'U' for 'Unknown'\n",
    "df['Deck'] = df['Deck'].fillna('U')\n",
    "\n",
    "# Group by 'Deck' and see the survival rates\n",
    "deck_summary = df.groupby('Deck')['Survived'].agg(['mean', 'count'])\n",
    "print(deck_summary)"
   ]
  },
  {
   "cell_type": "markdown",
   "id": "3c18d2eb",
   "metadata": {},
   "source": [
    "### Name\n",
    "1. title\n",
    "2. family"
   ]
  },
  {
   "cell_type": "code",
   "execution_count": 47,
   "id": "bff1e875",
   "metadata": {},
   "outputs": [
    {
     "name": "stdout",
     "output_type": "stream",
     "text": [
      "Unique Titles and Counts:\n",
      " Title\n",
      "Mr          517\n",
      "Miss        182\n",
      "Mrs         125\n",
      "Master       40\n",
      "Dr            7\n",
      "Rev           6\n",
      "Col           2\n",
      "Mlle          2\n",
      "Major         2\n",
      "Ms            1\n",
      "Mme           1\n",
      "Don           1\n",
      "Lady          1\n",
      "Sir           1\n",
      "Capt          1\n",
      "Countess      1\n",
      "Jonkheer      1\n",
      "Name: count, dtype: int64\n",
      "\n",
      "Survival Rate and Count by Title:\n",
      "             mean  count\n",
      "Title                  \n",
      "Dr      0.428571      7\n",
      "Master  0.575000     40\n",
      "Miss    0.697802    182\n",
      "Mr      0.156673    517\n",
      "Mrs     0.792000    125\n",
      "Other   0.642857     14\n",
      "Rev     0.000000      6\n"
     ]
    },
    {
     "name": "stderr",
     "output_type": "stream",
     "text": [
      "<>:2: SyntaxWarning: invalid escape sequence '\\.'\n",
      "<>:2: SyntaxWarning: invalid escape sequence '\\.'\n",
      "C:\\Users\\薛淞之\\AppData\\Local\\Temp\\ipykernel_34944\\4208560346.py:2: SyntaxWarning: invalid escape sequence '\\.'\n",
      "  df['Title'] = df['Name'].str.extract(' ([A-Za-z]+)\\.', expand=False)\n"
     ]
    }
   ],
   "source": [
    "# Extract the title from the 'Name' column\n",
    "df['Title'] = df['Name'].str.extract(' ([A-Za-z]+)\\.', expand=False)\n",
    "\n",
    "# Check the unique titles and their counts\n",
    "print(\"Unique Titles and Counts:\\n\", df['Title'].value_counts())\n",
    "\n",
    "# Now, map less common titles to a single 'Other' category\n",
    "common_titles = ['Mr', 'Miss', 'Mrs', 'Master', 'Dr', 'Rev']\n",
    "df['Title'] = df['Title'].apply(lambda x: x if x in common_titles else 'Other')\n",
    "\n",
    "# Group by the new 'Title' feature and calculate survival rates\n",
    "title_summary = df.groupby('Title')['Survived'].agg(['mean', 'count'])\n",
    "print(\"\\nSurvival Rate and Count by Title:\\n\", title_summary)"
   ]
  },
  {
   "cell_type": "code",
   "execution_count": 68,
   "id": "eb67f3a0",
   "metadata": {},
   "outputs": [
    {
     "name": "stdout",
     "output_type": "stream",
     "text": [
      "   IsAlone  Survived\n",
      "0        0  0.505650\n",
      "1        1  0.303538\n"
     ]
    }
   ],
   "source": [
    "# Create a 'Surname' column\n",
    "df['Surname'] = df['Name'].apply(lambda x: x.split(',')[0].strip())\n",
    "\n",
    "# Identify family groups based on Surname, SibSp, and Parch\n",
    "# The +1 accounts for the passenger themselves.\n",
    "family = df.groupby(['Surname', 'SibSp', 'Parch']).size().reset_index(name='FamilySize')\n",
    "family = family[family['FamilySize'] > 1] # Filter for groups of more than one person\n",
    "\n",
    "# Now, we can merge this back into the main dataframe\n",
    "df = pd.merge(df, family, on=['Surname', 'SibSp', 'Parch'], how='left')\n",
    "\n",
    "# Create a new feature for 'IsAlone'\n",
    "df['IsAlone'] = ((df['SibSp'] == 0) & (df['Parch'] == 0)).astype(int)\n",
    "\n",
    "# Group by 'IsAlone' and calculate survival rates\n",
    "alone_survival_rate = df.groupby('IsAlone')['Survived'].mean().reset_index()\n",
    "print(alone_survival_rate)"
   ]
  },
  {
   "cell_type": "code",
   "execution_count": 71,
   "id": "f1b2d134",
   "metadata": {},
   "outputs": [
    {
     "name": "stdout",
     "output_type": "stream",
     "text": [
      "Model Accuracy: 0.8492\n",
      "\n",
      "Final features used in the model:\n",
      "Index(['PassengerId', 'Pclass', 'Age', 'SibSp', 'Parch', 'Fare',\n",
      "       'Age_is_missing', 'IsAlone', 'Sex_male', 'Embarked_Q', 'Embarked_S',\n",
      "       'Deck_B', 'Deck_C', 'Deck_D', 'Deck_E', 'Deck_F', 'Deck_G', 'Deck_T',\n",
      "       'Deck_U', 'Title_Master', 'Title_Miss', 'Title_Mr', 'Title_Mrs',\n",
      "       'Title_Other', 'Title_Rev'],\n",
      "      dtype='object')\n"
     ]
    }
   ],
   "source": [
    "from sklearn.model_selection import train_test_split\n",
    "from sklearn.ensemble import RandomForestClassifier\n",
    "from sklearn.metrics import accuracy_score\n",
    "\n",
    "\n",
    "### One-Hot Encoding for Categorical Features\n",
    "# Convert categorical columns to a numerical format using one-hot encoding\n",
    "categorical_cols = ['Sex', 'Embarked', 'Deck', 'Title']\n",
    "df_encoded = pd.get_dummies(df, columns=categorical_cols, drop_first=True)\n",
    "\n",
    "### Preparing Data for the Model\n",
    "# Drop the original features that are not needed or are redundant\n",
    "# This includes the original string columns, as well as name-related columns\n",
    "X = df_encoded.drop([\n",
    "    'Survived',\n",
    "    'Name',\n",
    "    'Ticket',\n",
    "    'Cabin',\n",
    "    'Surname',\n",
    "    'FamilySize_x',\n",
    "    'FamilySize_y'\n",
    "], axis=1)\n",
    "\n",
    "y = df_encoded['Survived']\n",
    "\n",
    "### Splitting and Training the Model\n",
    "X_train, X_test, y_train, y_test = train_test_split(X, y, test_size=0.2, random_state=42)\n",
    "\n",
    "model = RandomForestClassifier(n_estimators=100, random_state=42)\n",
    "model.fit(X_train, y_train)\n",
    "\n",
    "y_pred = model.predict(X_test)\n",
    "\n",
    "accuracy = accuracy_score(y_test, y_pred)\n",
    "print(f'Model Accuracy: {accuracy:.4f}')\n",
    "\n",
    "# You can also inspect the final features\n",
    "print(\"\\nFinal features used in the model:\")\n",
    "print(X_train.columns)"
   ]
  },
  {
   "cell_type": "code",
   "execution_count": 72,
   "id": "feb310f5",
   "metadata": {},
   "outputs": [
    {
     "name": "stderr",
     "output_type": "stream",
     "text": [
      "<>:16: SyntaxWarning: invalid escape sequence '\\.'\n",
      "<>:16: SyntaxWarning: invalid escape sequence '\\.'\n",
      "C:\\Users\\薛淞之\\AppData\\Local\\Temp\\ipykernel_34944\\1281585859.py:16: SyntaxWarning: invalid escape sequence '\\.'\n",
      "  test_df['Title'] = test_df['Name'].str.extract(' ([A-Za-z]+)\\.', expand=False)\n",
      "C:\\Users\\薛淞之\\AppData\\Local\\Temp\\ipykernel_34944\\1281585859.py:16: SyntaxWarning: invalid escape sequence '\\.'\n",
      "  test_df['Title'] = test_df['Name'].str.extract(' ([A-Za-z]+)\\.', expand=False)\n"
     ]
    },
    {
     "ename": "KeyError",
     "evalue": "\"['Deck_T'] not in index\"",
     "output_type": "error",
     "traceback": [
      "\u001b[31m---------------------------------------------------------------------------\u001b[39m",
      "\u001b[31mKeyError\u001b[39m                                  Traceback (most recent call last)",
      "\u001b[36mCell\u001b[39m\u001b[36m \u001b[39m\u001b[32mIn[72]\u001b[39m\u001b[32m, line 35\u001b[39m\n\u001b[32m     32\u001b[39m test_encoded = pd.get_dummies(test_df, columns=categorical_cols, drop_first=\u001b[38;5;28;01mTrue\u001b[39;00m)\n\u001b[32m     34\u001b[39m \u001b[38;5;66;03m# Select the same features used for training\u001b[39;00m\n\u001b[32m---> \u001b[39m\u001b[32m35\u001b[39m test_features = \u001b[43mtest_encoded\u001b[49m\u001b[43m[\u001b[49m\u001b[43mX\u001b[49m\u001b[43m.\u001b[49m\u001b[43mcolumns\u001b[49m\u001b[43m]\u001b[49m\n",
      "\u001b[36mFile \u001b[39m\u001b[32md:\\playground\\kaggle\\Titanic\\myenv\\Lib\\site-packages\\pandas\\core\\frame.py:4113\u001b[39m, in \u001b[36mDataFrame.__getitem__\u001b[39m\u001b[34m(self, key)\u001b[39m\n\u001b[32m   4111\u001b[39m     \u001b[38;5;28;01mif\u001b[39;00m is_iterator(key):\n\u001b[32m   4112\u001b[39m         key = \u001b[38;5;28mlist\u001b[39m(key)\n\u001b[32m-> \u001b[39m\u001b[32m4113\u001b[39m     indexer = \u001b[38;5;28;43mself\u001b[39;49m\u001b[43m.\u001b[49m\u001b[43mcolumns\u001b[49m\u001b[43m.\u001b[49m\u001b[43m_get_indexer_strict\u001b[49m\u001b[43m(\u001b[49m\u001b[43mkey\u001b[49m\u001b[43m,\u001b[49m\u001b[43m \u001b[49m\u001b[33;43m\"\u001b[39;49m\u001b[33;43mcolumns\u001b[39;49m\u001b[33;43m\"\u001b[39;49m\u001b[43m)\u001b[49m[\u001b[32m1\u001b[39m]\n\u001b[32m   4115\u001b[39m \u001b[38;5;66;03m# take() does not accept boolean indexers\u001b[39;00m\n\u001b[32m   4116\u001b[39m \u001b[38;5;28;01mif\u001b[39;00m \u001b[38;5;28mgetattr\u001b[39m(indexer, \u001b[33m\"\u001b[39m\u001b[33mdtype\u001b[39m\u001b[33m\"\u001b[39m, \u001b[38;5;28;01mNone\u001b[39;00m) == \u001b[38;5;28mbool\u001b[39m:\n",
      "\u001b[36mFile \u001b[39m\u001b[32md:\\playground\\kaggle\\Titanic\\myenv\\Lib\\site-packages\\pandas\\core\\indexes\\base.py:6212\u001b[39m, in \u001b[36mIndex._get_indexer_strict\u001b[39m\u001b[34m(self, key, axis_name)\u001b[39m\n\u001b[32m   6209\u001b[39m \u001b[38;5;28;01melse\u001b[39;00m:\n\u001b[32m   6210\u001b[39m     keyarr, indexer, new_indexer = \u001b[38;5;28mself\u001b[39m._reindex_non_unique(keyarr)\n\u001b[32m-> \u001b[39m\u001b[32m6212\u001b[39m \u001b[38;5;28;43mself\u001b[39;49m\u001b[43m.\u001b[49m\u001b[43m_raise_if_missing\u001b[49m\u001b[43m(\u001b[49m\u001b[43mkeyarr\u001b[49m\u001b[43m,\u001b[49m\u001b[43m \u001b[49m\u001b[43mindexer\u001b[49m\u001b[43m,\u001b[49m\u001b[43m \u001b[49m\u001b[43maxis_name\u001b[49m\u001b[43m)\u001b[49m\n\u001b[32m   6214\u001b[39m keyarr = \u001b[38;5;28mself\u001b[39m.take(indexer)\n\u001b[32m   6215\u001b[39m \u001b[38;5;28;01mif\u001b[39;00m \u001b[38;5;28misinstance\u001b[39m(key, Index):\n\u001b[32m   6216\u001b[39m     \u001b[38;5;66;03m# GH 42790 - Preserve name from an Index\u001b[39;00m\n",
      "\u001b[36mFile \u001b[39m\u001b[32md:\\playground\\kaggle\\Titanic\\myenv\\Lib\\site-packages\\pandas\\core\\indexes\\base.py:6264\u001b[39m, in \u001b[36mIndex._raise_if_missing\u001b[39m\u001b[34m(self, key, indexer, axis_name)\u001b[39m\n\u001b[32m   6261\u001b[39m     \u001b[38;5;28;01mraise\u001b[39;00m \u001b[38;5;167;01mKeyError\u001b[39;00m(\u001b[33mf\u001b[39m\u001b[33m\"\u001b[39m\u001b[33mNone of [\u001b[39m\u001b[38;5;132;01m{\u001b[39;00mkey\u001b[38;5;132;01m}\u001b[39;00m\u001b[33m] are in the [\u001b[39m\u001b[38;5;132;01m{\u001b[39;00maxis_name\u001b[38;5;132;01m}\u001b[39;00m\u001b[33m]\u001b[39m\u001b[33m\"\u001b[39m)\n\u001b[32m   6263\u001b[39m not_found = \u001b[38;5;28mlist\u001b[39m(ensure_index(key)[missing_mask.nonzero()[\u001b[32m0\u001b[39m]].unique())\n\u001b[32m-> \u001b[39m\u001b[32m6264\u001b[39m \u001b[38;5;28;01mraise\u001b[39;00m \u001b[38;5;167;01mKeyError\u001b[39;00m(\u001b[33mf\u001b[39m\u001b[33m\"\u001b[39m\u001b[38;5;132;01m{\u001b[39;00mnot_found\u001b[38;5;132;01m}\u001b[39;00m\u001b[33m not in index\u001b[39m\u001b[33m\"\u001b[39m)\n",
      "\u001b[31mKeyError\u001b[39m: \"['Deck_T'] not in index\""
     ]
    }
   ],
   "source": [
    "# Assuming you have the test.csv file in the same directory\n",
    "test_df = pd.read_csv('./data/test.csv')\n",
    "\n",
    "# Apply the same preprocessing steps as the training data\n",
    "# Age\n",
    "test_df['Age_is_missing'] = test_df['Age'].isnull().astype(int)\n",
    "test_df['Age'] = test_df['Age'].fillna(test_df['Age'].median())\n",
    "\n",
    "test_df['Embarked'] = test_df['Embarked'].fillna('S')\n",
    "test_df['Fare'] = test_df['Fare'].fillna(test_df['Fare'].median())\n",
    "\n",
    "# Family feature engineering\n",
    "test_df['IsAlone'] = ((test_df['SibSp'] == 0) & (test_df['Parch'] == 0)).astype(int)\n",
    "\n",
    "# Title feature engineering\n",
    "test_df['Title'] = test_df['Name'].str.extract(' ([A-Za-z]+)\\.', expand=False)\n",
    "common_titles = ['Mr', 'Miss', 'Mrs', 'Master', 'Dr', 'Rev']\n",
    "test_df['Title'] = test_df['Title'].apply(lambda x: x if x in common_titles else 'Other')\n",
    "\n",
    "# Cabin feature engineering\n",
    "test_df['Deck'] = test_df['Cabin'].str[0]\n",
    "test_df['Deck'] = test_df['Deck'].fillna('U')\n",
    "\n",
    "# name feature engineering\n",
    "test_df['Surname'] = test_df['Name'].apply(lambda x: x.split(',')[0].strip())\n",
    "test_family = test_df.groupby(['Surname', 'SibSp', 'Parch']).size().reset_index(name='FamilySize')\n",
    "test_family = test_family[test_family['FamilySize'] > 1]\n",
    "test_df = pd.merge(test_df, test_family, on=['Surname', 'SibSp', 'Parch'], how='left')\n",
    "\n",
    "# One-hot encoding for categorical features\n",
    "categorical_cols = ['Sex', 'Embarked', 'Deck', 'Title']\n",
    "test_encoded = pd.get_dummies(test_df, columns=categorical_cols, drop_first=True)\n",
    "\n",
    "# Select the same features used for training\n",
    "test_features = test_encoded[X.columns]"
   ]
  },
  {
   "cell_type": "code",
   "execution_count": 73,
   "id": "17873488",
   "metadata": {},
   "outputs": [
    {
     "name": "stdout",
     "output_type": "stream",
     "text": [
      "Index(['PassengerId', 'Pclass', 'Age', 'SibSp', 'Parch', 'Fare',\n",
      "       'Age_is_missing', 'IsAlone', 'Sex_male', 'Embarked_Q', 'Embarked_S',\n",
      "       'Deck_B', 'Deck_C', 'Deck_D', 'Deck_E', 'Deck_F', 'Deck_G', 'Deck_T',\n",
      "       'Deck_U', 'Title_Master', 'Title_Miss', 'Title_Mr', 'Title_Mrs',\n",
      "       'Title_Other', 'Title_Rev'],\n",
      "      dtype='object')\n"
     ]
    }
   ],
   "source": [
    "print(X.columns)"
   ]
  },
  {
   "cell_type": "code",
   "execution_count": 75,
   "id": "b4d705ca",
   "metadata": {},
   "outputs": [
    {
     "name": "stdout",
     "output_type": "stream",
     "text": [
      "0    2.0\n",
      "1    NaN\n",
      "2    NaN\n",
      "3    2.0\n",
      "4    2.0\n",
      "5    NaN\n",
      "6    NaN\n",
      "7    3.0\n",
      "8    NaN\n",
      "9    2.0\n",
      "Name: FamilySize_y, dtype: float64\n"
     ]
    }
   ],
   "source": [
    "print(df['FamilySize_y'].head(10))"
   ]
  },
  {
   "cell_type": "code",
   "execution_count": null,
   "id": "a414bfbe",
   "metadata": {},
   "outputs": [],
   "source": [
    "print()"
   ]
  }
 ],
 "metadata": {
  "kernelspec": {
   "display_name": "myenv",
   "language": "python",
   "name": "python3"
  },
  "language_info": {
   "codemirror_mode": {
    "name": "ipython",
    "version": 3
   },
   "file_extension": ".py",
   "mimetype": "text/x-python",
   "name": "python",
   "nbconvert_exporter": "python",
   "pygments_lexer": "ipython3",
   "version": "3.12.2"
  }
 },
 "nbformat": 4,
 "nbformat_minor": 5
}
