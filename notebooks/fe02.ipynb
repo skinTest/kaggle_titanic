{
 "cells": [
  {
   "cell_type": "markdown",
   "id": "80a5505a",
   "metadata": {},
   "source": [
    "# Titanic round 2\n",
    "focusing on solve my overfitting problem"
   ]
  },
  {
   "cell_type": "code",
   "execution_count": null,
   "id": "0336cd3e",
   "metadata": {},
   "outputs": [],
   "source": [
    "import pandas as pd\n",
    "import numpy as np\n",
    "import re\n",
    "import os\n",
    "\n",
    "# reduce encoding pitfalls\n",
    "os.environ[\"PYTHONIOENCODING\"] = \"utf-8\"\n",
    "\n",
    "# Load data\n",
    "df = pd.read_csv(\"data/train.csv\")\n",
    "t_df = pd.read_csv(\"data/test.csv\")"
   ]
  },
  {
   "cell_type": "markdown",
   "id": "49e7261b",
   "metadata": {},
   "source": [
    "## feature engineering\n",
    "* age_is_missing\n",
    "* Deck: we take them from ticket, but because of missing and rare information, we collapse to Unknown and rare\n",
    "* title: to avoid interfere to sex, we collapse the rare ones."
   ]
  },
  {
   "cell_type": "code",
   "execution_count": 18,
   "id": "acfc189c",
   "metadata": {},
   "outputs": [],
   "source": [
    "# --- Helper: Extract Title from Name ---\n",
    "def extract_title(name):\n",
    "    m = re.search(r\",\\s*([^\\.]+)\\.\", str(name))\n",
    "    return m.group(1).strip() if m else \"None\"\n",
    "\n",
    "for tar in (df, t_df):\n",
    "    # Age missing flag\n",
    "    tar['Age_is_missing'] = tar['Age'].isna().astype(int)\n",
    "\n",
    "    # Fill Age with median\n",
    "    tar['Age'] = tar['Age'].fillna(tar['Age'].median())\n",
    "\n",
    "    # Deck from Cabin (first letter), collapse invalid to \"U\"\n",
    "    tar['Deck'] = tar['Cabin'].astype(str).str[0]\n",
    "    tar['Deck'] = tar['Deck'].apply(lambda x: x if x in list(\"ABCDEFG\") else \"U\")\n",
    "\n",
    "    # Extract Title from Name\n",
    "    tar['Title'] = tar['Name'].apply(extract_title)\n",
    "\n",
    "    # Collapse rare titles\n",
    "    common_titles = ['Mr','Miss','Mrs','Master']\n",
    "    tar['Title'] = tar['Title'].apply(lambda x: x if x in common_titles else 'Other')\n",
    "\n",
    "    # Fill Embarked missing with most common ('S')\n",
    "    tar['Embarked'] = tar['Embarked'].fillna('S')\n",
    "\n",
    "    # Fill Fare (test set has one missing)\n",
    "    tar['Fare'] = tar['Fare'].fillna(tar['Fare'].median())\n",
    "\n",
    "# Define features + target\n",
    "y = df['Survived'].astype(int)\n",
    "feature_cols = [\n",
    "    'Pclass','Sex','Age','SibSp','Parch','Fare',\n",
    "    'Embarked','Deck','Title','Age_is_missing'\n",
    "]\n",
    "\n",
    "X = df[feature_cols].copy()\n",
    "X_test_final = t_df[feature_cols].copy()\n"
   ]
  },
  {
   "cell_type": "markdown",
   "id": "1562baa3",
   "metadata": {},
   "source": [
    "## Preprocessing & Pipelines"
   ]
  },
  {
   "cell_type": "code",
   "execution_count": 19,
   "id": "23bf3224",
   "metadata": {},
   "outputs": [],
   "source": [
    "from sklearn.compose import ColumnTransformer\n",
    "from sklearn.pipeline import Pipeline\n",
    "from sklearn.preprocessing import OneHotEncoder, StandardScaler\n",
    "from sklearn.impute import SimpleImputer\n",
    "from sklearn.ensemble import RandomForestClassifier\n",
    "from sklearn.linear_model import LogisticRegression\n",
    "\n",
    "# Define numeric and categorical groups\n",
    "numeric_features = ['Age','SibSp','Parch']\n",
    "categorical_features = ['Sex','Age_is_missing','Pclass']\n",
    "\n",
    "# Numeric pipeline for Logistic Regression (needs scaling)\n",
    "numeric_transformer_lr = Pipeline(steps=[\n",
    "    ('imputer', SimpleImputer(strategy='median')),\n",
    "    ('scaler', StandardScaler())\n",
    "])\n",
    "\n",
    "# Numeric pipeline for Random Forest (no scaling needed)\n",
    "numeric_transformer_rf = Pipeline(steps=[\n",
    "    ('imputer', SimpleImputer(strategy='median'))\n",
    "])\n",
    "\n",
    "# Categorical pipeline (shared by both)\n",
    "categorical_transformer = Pipeline(steps=[\n",
    "    ('imputer', SimpleImputer(strategy='most_frequent')),\n",
    "    ('onehot', OneHotEncoder(handle_unknown='ignore'))\n",
    "])\n",
    "\n",
    "# Preprocessors\n",
    "preprocessor_lr = ColumnTransformer(\n",
    "    transformers=[\n",
    "        ('num', numeric_transformer_lr, numeric_features),\n",
    "        ('cat', categorical_transformer, categorical_features)\n",
    "    ]\n",
    ")\n",
    "\n",
    "preprocessor_rf = ColumnTransformer(\n",
    "    transformers=[\n",
    "        ('num', numeric_transformer_rf, numeric_features),\n",
    "        ('cat', categorical_transformer, categorical_features)\n",
    "    ]\n",
    ")\n",
    "\n",
    "# Pipelines\n",
    "rf_clf = Pipeline(steps=[\n",
    "    ('preprocess', preprocessor_rf),\n",
    "    ('model', RandomForestClassifier(\n",
    "        n_estimators=300,\n",
    "        max_depth=5,\n",
    "        min_samples_split=10,\n",
    "        min_samples_leaf=5,\n",
    "        random_state=42,\n",
    "        n_jobs=-1\n",
    "    ))\n",
    "])\n",
    "\n",
    "lr_clf = Pipeline(steps=[\n",
    "    ('preprocess', preprocessor_lr),\n",
    "    ('model', LogisticRegression(\n",
    "        max_iter=2000,\n",
    "        C=1.0,\n",
    "        solver='lbfgs'\n",
    "    ))\n",
    "])\n"
   ]
  },
  {
   "cell_type": "markdown",
   "id": "56d03744",
   "metadata": {},
   "source": [
    "## Model training & parameter optimization\n",
    "### Random Forest"
   ]
  },
  {
   "cell_type": "code",
   "execution_count": 20,
   "id": "1d257236",
   "metadata": {},
   "outputs": [
    {
     "name": "stdout",
     "output_type": "stream",
     "text": [
      "Best parameters: {'model__max_depth': 7, 'model__min_samples_leaf': 3, 'model__min_samples_split': 2, 'model__n_estimators': 200}\n",
      "Best CV accuracy: 0.8281897627965045\n"
     ]
    }
   ],
   "source": [
    "from sklearn.model_selection import StratifiedKFold, GridSearchCV\n",
    "from joblib import parallel_backend\n",
    "\n",
    "cv = StratifiedKFold(n_splits=10, shuffle=True, random_state=42)\n",
    "\n",
    "param_grid = {\n",
    "    'model__max_depth': [3, 5, 7, None],\n",
    "    'model__min_samples_split': [2, 5, 10],\n",
    "    'model__min_samples_leaf': [1, 3, 5],\n",
    "    'model__n_estimators': [200, 300, 500]\n",
    "}\n",
    "\n",
    "with parallel_backend('threading'):  # <— use threads instead of processes\n",
    "    grid = GridSearchCV(\n",
    "        rf_clf,\n",
    "        param_grid=param_grid,\n",
    "        cv=cv,\n",
    "        scoring='accuracy',\n",
    "        n_jobs=-1,   # threads, not processes\n",
    "        verbose=0\n",
    "    )\n",
    "    grid.fit(X, y)\n",
    "\n",
    "print(\"Best parameters:\", grid.best_params_)\n",
    "print(\"Best CV accuracy:\", grid.best_score_)\n"
   ]
  },
  {
   "cell_type": "markdown",
   "id": "78190aab",
   "metadata": {},
   "source": [
    "## Logistic Regression"
   ]
  },
  {
   "cell_type": "code",
   "execution_count": 21,
   "id": "ae148c1f",
   "metadata": {},
   "outputs": [
    {
     "name": "stdout",
     "output_type": "stream",
     "text": [
      "Submission file saved as submission_rf_tuned.csv\n"
     ]
    }
   ],
   "source": [
    "# Rebuild best RF pipeline with tuned parameters\n",
    "best_rf = Pipeline(steps=[\n",
    "    ('preprocess', preprocessor_rf),\n",
    "    ('model', RandomForestClassifier(\n",
    "        n_estimators=200,\n",
    "        max_depth=7,\n",
    "        min_samples_split=2,\n",
    "        min_samples_leaf=3,\n",
    "        random_state=42,\n",
    "        n_jobs=-1\n",
    "    ))\n",
    "])\n",
    "\n",
    "# Train on full training data\n",
    "best_rf.fit(X, y)\n",
    "\n",
    "# Predict on test set\n",
    "pred_test = best_rf.predict(X_test_final)\n",
    "\n",
    "# Build submission DataFrame\n",
    "submission_df = pd.DataFrame({\n",
    "    'PassengerId': t_df['PassengerId'],\n",
    "    'Survived': pred_test.astype(int)\n",
    "})\n",
    "\n",
    "# Save CSV\n",
    "submission_df.to_csv(\"submission_rf_tuned_simp.csv\", index=False)\n",
    "print(\"Submission file saved as submission_rf_tuned.csv\")\n"
   ]
  },
  {
   "cell_type": "code",
   "execution_count": null,
   "id": "6376cd67",
   "metadata": {},
   "outputs": [],
   "source": []
  }
 ],
 "metadata": {
  "kernelspec": {
   "display_name": "myenv",
   "language": "python",
   "name": "python3"
  },
  "language_info": {
   "codemirror_mode": {
    "name": "ipython",
    "version": 3
   },
   "file_extension": ".py",
   "mimetype": "text/x-python",
   "name": "python",
   "nbconvert_exporter": "python",
   "pygments_lexer": "ipython3",
   "version": "3.12.2"
  }
 },
 "nbformat": 4,
 "nbformat_minor": 5
}
